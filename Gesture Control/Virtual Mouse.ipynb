{
 "cells": [
  {
   "cell_type": "code",
   "execution_count": 57,
   "id": "9a10a237-730d-43c5-ae7e-0d58cf959fe4",
   "metadata": {},
   "outputs": [
    {
     "name": "stdout",
     "output_type": "stream",
     "text": [
      "Requirement already satisfied: pyautogui in c:\\users\\babym\\appdata\\local\\programs\\python\\python310\\lib\\site-packages (0.9.54)\n",
      "Requirement already satisfied: pygetwindow>=0.0.5 in c:\\users\\babym\\appdata\\local\\programs\\python\\python310\\lib\\site-packages (from pyautogui) (0.0.9)\n",
      "Requirement already satisfied: pytweening>=1.0.4 in c:\\users\\babym\\appdata\\local\\programs\\python\\python310\\lib\\site-packages (from pyautogui) (1.2.0)\n",
      "Requirement already satisfied: pyscreeze>=0.1.21 in c:\\users\\babym\\appdata\\local\\programs\\python\\python310\\lib\\site-packages (from pyautogui) (1.0.1)\n",
      "Requirement already satisfied: mouseinfo in c:\\users\\babym\\appdata\\local\\programs\\python\\python310\\lib\\site-packages (from pyautogui) (0.1.3)\n",
      "Requirement already satisfied: pymsgbox in c:\\users\\babym\\appdata\\local\\programs\\python\\python310\\lib\\site-packages (from pyautogui) (1.0.9)\n",
      "Requirement already satisfied: pyrect in c:\\users\\babym\\appdata\\local\\programs\\python\\python310\\lib\\site-packages (from pygetwindow>=0.0.5->pyautogui) (0.2.0)\n",
      "Requirement already satisfied: Pillow>=9.2.0 in c:\\users\\babym\\appdata\\local\\programs\\python\\python310\\lib\\site-packages (from pyscreeze>=0.1.21->pyautogui) (11.2.1)\n",
      "Requirement already satisfied: pyperclip in c:\\users\\babym\\appdata\\local\\programs\\python\\python310\\lib\\site-packages (from mouseinfo->pyautogui) (1.9.0)\n"
     ]
    },
    {
     "name": "stderr",
     "output_type": "stream",
     "text": [
      "\n",
      "[notice] A new release of pip is available: 23.0.1 -> 25.1.1\n",
      "[notice] To update, run: python.exe -m pip install --upgrade pip\n"
     ]
    }
   ],
   "source": [
    "!pip install pyautogui"
   ]
  },
  {
   "cell_type": "code",
   "execution_count": 42,
   "id": "baa25b6c-c688-445b-86d8-6d0e12582936",
   "metadata": {},
   "outputs": [
    {
     "name": "stdout",
     "output_type": "stream",
     "text": [
      "Requirement already satisfied: mediapipe in c:\\users\\babym\\appdata\\local\\programs\\python\\python310\\lib\\site-packages (0.10.21)\n",
      "Requirement already satisfied: sounddevice>=0.4.4 in c:\\users\\babym\\appdata\\local\\programs\\python\\python310\\lib\\site-packages (from mediapipe) (0.5.2)\n",
      "Requirement already satisfied: sentencepiece in c:\\users\\babym\\appdata\\local\\programs\\python\\python310\\lib\\site-packages (from mediapipe) (0.2.0)\n",
      "Requirement already satisfied: opencv-contrib-python in c:\\users\\babym\\appdata\\local\\programs\\python\\python310\\lib\\site-packages (from mediapipe) (4.11.0.86)\n",
      "Requirement already satisfied: attrs>=19.1.0 in c:\\users\\babym\\appdata\\local\\programs\\python\\python310\\lib\\site-packages (from mediapipe) (25.3.0)\n",
      "Requirement already satisfied: protobuf<5,>=4.25.3 in c:\\users\\babym\\appdata\\local\\programs\\python\\python310\\lib\\site-packages (from mediapipe) (4.25.7)\n",
      "Requirement already satisfied: jax in c:\\users\\babym\\appdata\\local\\programs\\python\\python310\\lib\\site-packages (from mediapipe) (0.6.0)\n",
      "Requirement already satisfied: absl-py in c:\\users\\babym\\appdata\\local\\programs\\python\\python310\\lib\\site-packages (from mediapipe) (2.2.2)\n",
      "Requirement already satisfied: numpy<2 in c:\\users\\babym\\appdata\\local\\programs\\python\\python310\\lib\\site-packages (from mediapipe) (1.26.4)\n",
      "Requirement already satisfied: matplotlib in c:\\users\\babym\\appdata\\local\\programs\\python\\python310\\lib\\site-packages (from mediapipe) (3.10.3)\n",
      "Requirement already satisfied: jaxlib in c:\\users\\babym\\appdata\\local\\programs\\python\\python310\\lib\\site-packages (from mediapipe) (0.6.0)\n",
      "Requirement already satisfied: flatbuffers>=2.0 in c:\\users\\babym\\appdata\\local\\programs\\python\\python310\\lib\\site-packages (from mediapipe) (25.2.10)\n",
      "Requirement already satisfied: CFFI>=1.0 in c:\\users\\babym\\appdata\\local\\programs\\python\\python310\\lib\\site-packages (from sounddevice>=0.4.4->mediapipe) (1.17.1)\n",
      "Requirement already satisfied: opt_einsum in c:\\users\\babym\\appdata\\local\\programs\\python\\python310\\lib\\site-packages (from jax->mediapipe) (3.4.0)\n",
      "Requirement already satisfied: scipy>=1.11.1 in c:\\users\\babym\\appdata\\local\\programs\\python\\python310\\lib\\site-packages (from jax->mediapipe) (1.15.3)\n",
      "Requirement already satisfied: ml_dtypes>=0.5.0 in c:\\users\\babym\\appdata\\local\\programs\\python\\python310\\lib\\site-packages (from jax->mediapipe) (0.5.1)\n",
      "Requirement already satisfied: fonttools>=4.22.0 in c:\\users\\babym\\appdata\\local\\programs\\python\\python310\\lib\\site-packages (from matplotlib->mediapipe) (4.58.0)\n",
      "Requirement already satisfied: kiwisolver>=1.3.1 in c:\\users\\babym\\appdata\\local\\programs\\python\\python310\\lib\\site-packages (from matplotlib->mediapipe) (1.4.8)\n",
      "Requirement already satisfied: packaging>=20.0 in c:\\users\\babym\\appdata\\local\\programs\\python\\python310\\lib\\site-packages (from matplotlib->mediapipe) (25.0)\n",
      "Requirement already satisfied: pyparsing>=2.3.1 in c:\\users\\babym\\appdata\\local\\programs\\python\\python310\\lib\\site-packages (from matplotlib->mediapipe) (3.2.3)\n",
      "Requirement already satisfied: contourpy>=1.0.1 in c:\\users\\babym\\appdata\\local\\programs\\python\\python310\\lib\\site-packages (from matplotlib->mediapipe) (1.3.2)\n",
      "Requirement already satisfied: cycler>=0.10 in c:\\users\\babym\\appdata\\local\\programs\\python\\python310\\lib\\site-packages (from matplotlib->mediapipe) (0.12.1)\n",
      "Requirement already satisfied: pillow>=8 in c:\\users\\babym\\appdata\\local\\programs\\python\\python310\\lib\\site-packages (from matplotlib->mediapipe) (11.2.1)\n",
      "Requirement already satisfied: python-dateutil>=2.7 in c:\\users\\babym\\appdata\\local\\programs\\python\\python310\\lib\\site-packages (from matplotlib->mediapipe) (2.9.0.post0)\n",
      "Requirement already satisfied: pycparser in c:\\users\\babym\\appdata\\local\\programs\\python\\python310\\lib\\site-packages (from CFFI>=1.0->sounddevice>=0.4.4->mediapipe) (2.22)\n",
      "Requirement already satisfied: six>=1.5 in c:\\users\\babym\\appdata\\local\\programs\\python\\python310\\lib\\site-packages (from python-dateutil>=2.7->matplotlib->mediapipe) (1.17.0)\n"
     ]
    },
    {
     "name": "stderr",
     "output_type": "stream",
     "text": [
      "\n",
      "[notice] A new release of pip is available: 23.0.1 -> 25.1.1\n",
      "[notice] To update, run: python.exe -m pip install --upgrade pip\n"
     ]
    }
   ],
   "source": [
    "!pip install mediapipe"
   ]
  },
  {
   "cell_type": "code",
   "execution_count": 43,
   "id": "c102b76c-f7cc-41ec-9d99-6c7e9c9de799",
   "metadata": {},
   "outputs": [
    {
     "name": "stdout",
     "output_type": "stream",
     "text": [
      "Requirement already satisfied: mediapipe in c:\\users\\babym\\appdata\\local\\programs\\python\\python310\\lib\\site-packages (0.10.21)\n",
      "Requirement already satisfied: attrs>=19.1.0 in c:\\users\\babym\\appdata\\local\\programs\\python\\python310\\lib\\site-packages (from mediapipe) (25.3.0)\n",
      "Requirement already satisfied: protobuf<5,>=4.25.3 in c:\\users\\babym\\appdata\\local\\programs\\python\\python310\\lib\\site-packages (from mediapipe) (4.25.7)\n",
      "Requirement already satisfied: sounddevice>=0.4.4 in c:\\users\\babym\\appdata\\local\\programs\\python\\python310\\lib\\site-packages (from mediapipe) (0.5.2)\n",
      "Requirement already satisfied: flatbuffers>=2.0 in c:\\users\\babym\\appdata\\local\\programs\\python\\python310\\lib\\site-packages (from mediapipe) (25.2.10)\n",
      "Requirement already satisfied: opencv-contrib-python in c:\\users\\babym\\appdata\\local\\programs\\python\\python310\\lib\\site-packages (from mediapipe) (4.11.0.86)\n",
      "Requirement already satisfied: jaxlib in c:\\users\\babym\\appdata\\local\\programs\\python\\python310\\lib\\site-packages (from mediapipe) (0.6.0)\n",
      "Requirement already satisfied: numpy<2 in c:\\users\\babym\\appdata\\local\\programs\\python\\python310\\lib\\site-packages (from mediapipe) (1.26.4)\n",
      "Requirement already satisfied: sentencepiece in c:\\users\\babym\\appdata\\local\\programs\\python\\python310\\lib\\site-packages (from mediapipe) (0.2.0)\n",
      "Requirement already satisfied: jax in c:\\users\\babym\\appdata\\local\\programs\\python\\python310\\lib\\site-packages (from mediapipe) (0.6.0)\n",
      "Requirement already satisfied: matplotlib in c:\\users\\babym\\appdata\\local\\programs\\python\\python310\\lib\\site-packages (from mediapipe) (3.10.3)\n",
      "Requirement already satisfied: absl-py in c:\\users\\babym\\appdata\\local\\programs\\python\\python310\\lib\\site-packages (from mediapipe) (2.2.2)\n",
      "Requirement already satisfied: CFFI>=1.0 in c:\\users\\babym\\appdata\\local\\programs\\python\\python310\\lib\\site-packages (from sounddevice>=0.4.4->mediapipe) (1.17.1)\n",
      "Requirement already satisfied: opt_einsum in c:\\users\\babym\\appdata\\local\\programs\\python\\python310\\lib\\site-packages (from jax->mediapipe) (3.4.0)\n",
      "Requirement already satisfied: scipy>=1.11.1 in c:\\users\\babym\\appdata\\local\\programs\\python\\python310\\lib\\site-packages (from jax->mediapipe) (1.15.3)\n",
      "Requirement already satisfied: ml_dtypes>=0.5.0 in c:\\users\\babym\\appdata\\local\\programs\\python\\python310\\lib\\site-packages (from jax->mediapipe) (0.5.1)\n",
      "Requirement already satisfied: packaging>=20.0 in c:\\users\\babym\\appdata\\local\\programs\\python\\python310\\lib\\site-packages (from matplotlib->mediapipe) (25.0)\n",
      "Requirement already satisfied: kiwisolver>=1.3.1 in c:\\users\\babym\\appdata\\local\\programs\\python\\python310\\lib\\site-packages (from matplotlib->mediapipe) (1.4.8)\n",
      "Requirement already satisfied: pillow>=8 in c:\\users\\babym\\appdata\\local\\programs\\python\\python310\\lib\\site-packages (from matplotlib->mediapipe) (11.2.1)\n",
      "Requirement already satisfied: fonttools>=4.22.0 in c:\\users\\babym\\appdata\\local\\programs\\python\\python310\\lib\\site-packages (from matplotlib->mediapipe) (4.58.0)\n",
      "Requirement already satisfied: contourpy>=1.0.1 in c:\\users\\babym\\appdata\\local\\programs\\python\\python310\\lib\\site-packages (from matplotlib->mediapipe) (1.3.2)\n",
      "Requirement already satisfied: python-dateutil>=2.7 in c:\\users\\babym\\appdata\\local\\programs\\python\\python310\\lib\\site-packages (from matplotlib->mediapipe) (2.9.0.post0)\n",
      "Requirement already satisfied: pyparsing>=2.3.1 in c:\\users\\babym\\appdata\\local\\programs\\python\\python310\\lib\\site-packages (from matplotlib->mediapipe) (3.2.3)\n",
      "Requirement already satisfied: cycler>=0.10 in c:\\users\\babym\\appdata\\local\\programs\\python\\python310\\lib\\site-packages (from matplotlib->mediapipe) (0.12.1)\n",
      "Requirement already satisfied: pycparser in c:\\users\\babym\\appdata\\local\\programs\\python\\python310\\lib\\site-packages (from CFFI>=1.0->sounddevice>=0.4.4->mediapipe) (2.22)\n",
      "Requirement already satisfied: six>=1.5 in c:\\users\\babym\\appdata\\local\\programs\\python\\python310\\lib\\site-packages (from python-dateutil>=2.7->matplotlib->mediapipe) (1.17.0)\n"
     ]
    },
    {
     "name": "stderr",
     "output_type": "stream",
     "text": [
      "\n",
      "[notice] A new release of pip is available: 23.0.1 -> 25.1.1\n",
      "[notice] To update, run: python.exe -m pip install --upgrade pip\n"
     ]
    }
   ],
   "source": [
    "import sys\n",
    "!{sys.executable} -m pip install mediapipe\n"
   ]
  },
  {
   "cell_type": "code",
   "execution_count": 44,
   "id": "25007d62-7953-4d2c-9faa-93899e009c52",
   "metadata": {},
   "outputs": [
    {
     "name": "stdout",
     "output_type": "stream",
     "text": [
      "0.10.21\n"
     ]
    }
   ],
   "source": [
    "import mediapipe as mp\n",
    "print(mp.__version__)\n"
   ]
  },
  {
   "cell_type": "code",
   "execution_count": 46,
   "id": "a07532eb-22c5-4abf-b4f0-58e4d6f63fde",
   "metadata": {},
   "outputs": [
    {
     "name": "stdout",
     "output_type": "stream",
     "text": [
      "C:\\Users\\babym\\AppData\\Local\\Programs\\Python\\Python310\\python.exe\n"
     ]
    }
   ],
   "source": [
    "import sys\n",
    "print(sys.executable)\n"
   ]
  },
  {
   "cell_type": "code",
   "execution_count": 47,
   "id": "eb829934-ed2d-4d65-9303-26f66089b0b2",
   "metadata": {},
   "outputs": [],
   "source": [
    "import cv2\n",
    "import mediapipe as mp\n",
    "import pyautogui\n",
    "import random\n",
    "import util\n",
    "from pynput.mouse import Button, Controller\n",
    "mouse = Controller()"
   ]
  },
  {
   "cell_type": "code",
   "execution_count": 48,
   "id": "f66088a8-0347-4485-8090-dc9c65445642",
   "metadata": {},
   "outputs": [],
   "source": [
    "screen_width, screen_height = pyautogui.size()\n",
    "\n",
    "mpHands = mp.solutions.hands\n",
    "hands = mpHands.Hands(\n",
    "    static_image_mode=False,\n",
    "    model_complexity=1,\n",
    "    min_detection_confidence=0.7,\n",
    "    min_tracking_confidence=0.7,\n",
    "    max_num_hands=1\n",
    ")\n"
   ]
  },
  {
   "cell_type": "code",
   "execution_count": 49,
   "id": "ec3602cb-323f-4e90-a06f-501a15bd559e",
   "metadata": {},
   "outputs": [],
   "source": [
    "def find_finger_tip(processed):\n",
    "    if processed.multi_hand_landmarks:\n",
    "        hand_landmarks = processed.multi_hand_landmarks[0]  # Assuming only one hand is detected\n",
    "        index_finger_tip = hand_landmarks.landmark[mpHands.HandLandmark.INDEX_FINGER_TIP]\n",
    "        return index_finger_tip\n",
    "    return None, None\n"
   ]
  },
  {
   "cell_type": "code",
   "execution_count": 50,
   "id": "befc366b-468a-4559-be53-1b6fb0a2b7f7",
   "metadata": {},
   "outputs": [],
   "source": [
    "def move_mouse(index_finger_tip):\n",
    "    if index_finger_tip is not None:\n",
    "        x = int(index_finger_tip.x * screen_width)\n",
    "        y = int(index_finger_tip.y / 2 * screen_height)\n",
    "        pyautogui.moveTo(x, y)"
   ]
  },
  {
   "cell_type": "code",
   "execution_count": 51,
   "id": "6f319031-980f-44ba-a7a1-92a5e38c4d6d",
   "metadata": {},
   "outputs": [],
   "source": [
    "def is_left_click(landmark_list, thumb_index_dist):\n",
    "    return (\n",
    "            util.get_angle(landmark_list[5], landmark_list[6], landmark_list[8]) < 50 and\n",
    "            util.get_angle(landmark_list[9], landmark_list[10], landmark_list[12]) > 90 and\n",
    "            thumb_index_dist > 50\n",
    "    )\n"
   ]
  },
  {
   "cell_type": "code",
   "execution_count": 52,
   "id": "2b8877e0-762f-46a3-8596-726c8b75f268",
   "metadata": {},
   "outputs": [],
   "source": [
    "def is_right_click(landmark_list, thumb_index_dist):\n",
    "    return (\n",
    "            util.get_angle(landmark_list[9], landmark_list[10], landmark_list[12]) < 50 and\n",
    "            util.get_angle(landmark_list[5], landmark_list[6], landmark_list[8]) > 90  and\n",
    "            thumb_index_dist > 50\n",
    "    )"
   ]
  },
  {
   "cell_type": "code",
   "execution_count": 53,
   "id": "97a98543-e898-4763-9c3f-2fb81c07f54f",
   "metadata": {},
   "outputs": [],
   "source": [
    "def is_double_click(landmark_list, thumb_index_dist):\n",
    "    return (\n",
    "            util.get_angle(landmark_list[5], landmark_list[6], landmark_list[8]) < 50 and\n",
    "            util.get_angle(landmark_list[9], landmark_list[10], landmark_list[12]) < 50 and\n",
    "            thumb_index_dist > 50\n",
    "    )"
   ]
  },
  {
   "cell_type": "code",
   "execution_count": 54,
   "id": "dc837a4a-17de-4e98-b9d8-e9d46b05a687",
   "metadata": {},
   "outputs": [],
   "source": [
    "def is_screenshot(landmark_list, thumb_index_dist):\n",
    "    return (\n",
    "            util.get_angle(landmark_list[5], landmark_list[6], landmark_list[8]) < 50 and\n",
    "            util.get_angle(landmark_list[9], landmark_list[10], landmark_list[12]) < 50 and\n",
    "            thumb_index_dist < 50\n",
    "    )\n"
   ]
  },
  {
   "cell_type": "code",
   "execution_count": 55,
   "id": "963d6373-67f4-489a-b753-35842b94f681",
   "metadata": {},
   "outputs": [],
   "source": [
    "def detect_gesture(frame, landmark_list, processed):\n",
    "    if len(landmark_list) >= 21:\n",
    "\n",
    "        index_finger_tip = find_finger_tip(processed)\n",
    "        thumb_index_dist = util.get_distance([landmark_list[4], landmark_list[5]])\n",
    "\n",
    "        if util.get_distance([landmark_list[4], landmark_list[5]]) < 50  and util.get_angle(landmark_list[5], landmark_list[6], landmark_list[8]) > 90:\n",
    "            move_mouse(index_finger_tip)\n",
    "        elif is_left_click(landmark_list,  thumb_index_dist):\n",
    "            mouse.press(Button.left)\n",
    "            mouse.release(Button.left)\n",
    "            cv2.putText(frame, \"Left Click\", (50, 50), cv2.FONT_HERSHEY_SIMPLEX, 1, (0, 255, 0), 2)\n",
    "        elif is_right_click(landmark_list, thumb_index_dist):\n",
    "            mouse.press(Button.right)\n",
    "            mouse.release(Button.right)\n",
    "            cv2.putText(frame, \"Right Click\", (50, 50), cv2.FONT_HERSHEY_SIMPLEX, 1, (0, 0, 255), 2)\n",
    "        elif is_double_click(landmark_list, thumb_index_dist):\n",
    "            pyautogui.doubleClick()\n",
    "            cv2.putText(frame, \"Double Click\", (50, 50), cv2.FONT_HERSHEY_SIMPLEX, 1, (255, 255, 0), 2)\n",
    "        elif is_screenshot(landmark_list,thumb_index_dist ):\n",
    "            im1 = pyautogui.screenshot()\n",
    "            label = random.randint(1, 1000)\n",
    "            im1.save(f'my_screenshot_{label}.png')\n",
    "            cv2.putText(frame, \"Screenshot Taken\", (50, 50), cv2.FONT_HERSHEY_SIMPLEX, 1, (255, 255, 0), 2)"
   ]
  },
  {
   "cell_type": "code",
   "execution_count": 56,
   "id": "9045d47e-5bd6-4acb-8e02-bdbda71acdc6",
   "metadata": {
    "scrolled": true
   },
   "outputs": [],
   "source": [
    "def main():\n",
    "    draw = mp.solutions.drawing_utils\n",
    "    cap = cv2.VideoCapture(0)\n",
    "\n",
    "    try:\n",
    "        while cap.isOpened():\n",
    "            ret, frame = cap.read()\n",
    "            if not ret:\n",
    "                break\n",
    "            frame = cv2.flip(frame, 1)\n",
    "            frameRGB = cv2.cvtColor(frame, cv2.COLOR_BGR2RGB)\n",
    "            processed = hands.process(frameRGB)\n",
    "\n",
    "            landmark_list = []\n",
    "            if processed.multi_hand_landmarks:\n",
    "                hand_landmarks = processed.multi_hand_landmarks[0]  # Assuming only one hand is detected\n",
    "                draw.draw_landmarks(frame, hand_landmarks, mpHands.HAND_CONNECTIONS)\n",
    "                for lm in hand_landmarks.landmark:\n",
    "                    landmark_list.append((lm.x, lm.y))\n",
    "\n",
    "            detect_gesture(frame, landmark_list, processed)\n",
    "\n",
    "            cv2.imshow('Frame', frame)\n",
    "            if cv2.waitKey(1) & 0xFF == ord('q'):\n",
    "                break\n",
    "    finally:\n",
    "        cap.release()\n",
    "        cv2.destroyAllWindows()\n",
    "\n",
    "\n",
    "if __name__ == '__main__':\n",
    "    main()\n"
   ]
  },
  {
   "cell_type": "code",
   "execution_count": 58,
   "id": "f6e74c30-ef17-4491-91c8-ab0f67580f36",
   "metadata": {},
   "outputs": [],
   "source": [
    "import pyautogui"
   ]
  },
  {
   "cell_type": "code",
   "execution_count": 59,
   "id": "deaaa7b3-dc41-4367-a108-48a37f0030b2",
   "metadata": {},
   "outputs": [
    {
     "name": "stdout",
     "output_type": "stream",
     "text": [
      "Requirement already satisfied: pynput in c:\\users\\babym\\appdata\\local\\programs\\python\\python310\\lib\\site-packages (1.8.1)\n",
      "Requirement already satisfied: six in c:\\users\\babym\\appdata\\local\\programs\\python\\python310\\lib\\site-packages (from pynput) (1.17.0)\n"
     ]
    },
    {
     "name": "stderr",
     "output_type": "stream",
     "text": [
      "\n",
      "[notice] A new release of pip is available: 23.0.1 -> 25.1.1\n",
      "[notice] To update, run: python.exe -m pip install --upgrade pip\n"
     ]
    }
   ],
   "source": [
    "!pip install pynput"
   ]
  },
  {
   "cell_type": "code",
   "execution_count": null,
   "id": "63c4cde4-1eed-49ed-8867-6c4bdf0caf5c",
   "metadata": {},
   "outputs": [],
   "source": []
  }
 ],
 "metadata": {
  "kernelspec": {
   "display_name": "Python 3.12 (mediapipe)",
   "language": "python",
   "name": "py312"
  },
  "language_info": {
   "codemirror_mode": {
    "name": "ipython",
    "version": 3
   },
   "file_extension": ".py",
   "mimetype": "text/x-python",
   "name": "python",
   "nbconvert_exporter": "python",
   "pygments_lexer": "ipython3",
   "version": "3.10.11"
  }
 },
 "nbformat": 4,
 "nbformat_minor": 5
}
